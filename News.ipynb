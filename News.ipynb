{
 "cells": [
  {
   "cell_type": "code",
   "execution_count": 1,
   "metadata": {},
   "outputs": [],
   "source": [
    "import pandas as pd\n",
    "import matplotlib.pyplot as plt\n",
    "from pandas.plotting import scatter_matrix\n",
    "from sklearn import model_selection\n",
    "from sklearn.ensemble import RandomForestClassifier\n",
    "from sklearn.metrics import confusion_matrix\n",
    "from sklearn.metrics import classification_report\n",
    "from sklearn.metrics import accuracy_score\n",
    "from sklearn.linear_model import LogisticRegression\n",
    "from sklearn.linear_model import LinearRegression\n",
    "from sklearn.tree import DecisionTreeClassifier\n",
    "from sklearn.svm import SVC\n",
    "from sklearn.naive_bayes import GaussianNB\n",
    "from sklearn.discriminant_analysis import LinearDiscriminantAnalysis\n",
    "from sklearn.neighbors import KNeighborsClassifier"
   ]
  },
  {
   "cell_type": "code",
   "execution_count": 2,
   "metadata": {},
   "outputs": [
    {
     "data": {
      "text/html": [
       "<div>\n",
       "<style scoped>\n",
       "    .dataframe tbody tr th:only-of-type {\n",
       "        vertical-align: middle;\n",
       "    }\n",
       "\n",
       "    .dataframe tbody tr th {\n",
       "        vertical-align: top;\n",
       "    }\n",
       "\n",
       "    .dataframe thead th {\n",
       "        text-align: right;\n",
       "    }\n",
       "</style>\n",
       "<table border=\"1\" class=\"dataframe\">\n",
       "  <thead>\n",
       "    <tr style=\"text-align: right;\">\n",
       "      <th></th>\n",
       "      <th>Newspaper</th>\n",
       "      <th>daily</th>\n",
       "      <th>sunday</th>\n",
       "    </tr>\n",
       "  </thead>\n",
       "  <tbody>\n",
       "    <tr>\n",
       "      <th>0</th>\n",
       "      <td>Baltimore Sun</td>\n",
       "      <td>391.952</td>\n",
       "      <td>488.506</td>\n",
       "    </tr>\n",
       "    <tr>\n",
       "      <th>1</th>\n",
       "      <td>Boston Globe</td>\n",
       "      <td>516.981</td>\n",
       "      <td>798.298</td>\n",
       "    </tr>\n",
       "    <tr>\n",
       "      <th>2</th>\n",
       "      <td>Boston Herald</td>\n",
       "      <td>355.628</td>\n",
       "      <td>235.084</td>\n",
       "    </tr>\n",
       "    <tr>\n",
       "      <th>3</th>\n",
       "      <td>Charlotte Observer</td>\n",
       "      <td>238.555</td>\n",
       "      <td>299.451</td>\n",
       "    </tr>\n",
       "    <tr>\n",
       "      <th>4</th>\n",
       "      <td>Chicago Sun Times</td>\n",
       "      <td>537.780</td>\n",
       "      <td>559.093</td>\n",
       "    </tr>\n",
       "  </tbody>\n",
       "</table>\n",
       "</div>"
      ],
      "text/plain": [
       "            Newspaper    daily   sunday\n",
       "0       Baltimore Sun  391.952  488.506\n",
       "1        Boston Globe  516.981  798.298\n",
       "2       Boston Herald  355.628  235.084\n",
       "3  Charlotte Observer  238.555  299.451\n",
       "4   Chicago Sun Times  537.780  559.093"
      ]
     },
     "execution_count": 2,
     "metadata": {},
     "output_type": "execute_result"
    }
   ],
   "source": [
    "dataset=pd.read_csv('Exercise//NewspaperData.csv')\n",
    "dataset.head()"
   ]
  },
  {
   "cell_type": "code",
   "execution_count": 3,
   "metadata": {},
   "outputs": [
    {
     "data": {
      "text/html": [
       "<div>\n",
       "<style scoped>\n",
       "    .dataframe tbody tr th:only-of-type {\n",
       "        vertical-align: middle;\n",
       "    }\n",
       "\n",
       "    .dataframe tbody tr th {\n",
       "        vertical-align: top;\n",
       "    }\n",
       "\n",
       "    .dataframe thead th {\n",
       "        text-align: right;\n",
       "    }\n",
       "</style>\n",
       "<table border=\"1\" class=\"dataframe\">\n",
       "  <thead>\n",
       "    <tr style=\"text-align: right;\">\n",
       "      <th></th>\n",
       "      <th>daily</th>\n",
       "      <th>sunday</th>\n",
       "    </tr>\n",
       "  </thead>\n",
       "  <tbody>\n",
       "    <tr>\n",
       "      <th>0</th>\n",
       "      <td>391.952</td>\n",
       "      <td>488.506</td>\n",
       "    </tr>\n",
       "    <tr>\n",
       "      <th>1</th>\n",
       "      <td>516.981</td>\n",
       "      <td>798.298</td>\n",
       "    </tr>\n",
       "    <tr>\n",
       "      <th>2</th>\n",
       "      <td>355.628</td>\n",
       "      <td>235.084</td>\n",
       "    </tr>\n",
       "    <tr>\n",
       "      <th>3</th>\n",
       "      <td>238.555</td>\n",
       "      <td>299.451</td>\n",
       "    </tr>\n",
       "    <tr>\n",
       "      <th>4</th>\n",
       "      <td>537.780</td>\n",
       "      <td>559.093</td>\n",
       "    </tr>\n",
       "  </tbody>\n",
       "</table>\n",
       "</div>"
      ],
      "text/plain": [
       "     daily   sunday\n",
       "0  391.952  488.506\n",
       "1  516.981  798.298\n",
       "2  355.628  235.084\n",
       "3  238.555  299.451\n",
       "4  537.780  559.093"
      ]
     },
     "execution_count": 3,
     "metadata": {},
     "output_type": "execute_result"
    }
   ],
   "source": [
    "dataset=dataset.drop(columns=['Newspaper'],axis=1)\n",
    "dataset.head()"
   ]
  },
  {
   "cell_type": "code",
   "execution_count": 4,
   "metadata": {},
   "outputs": [
    {
     "name": "stdout",
     "output_type": "stream",
     "text": [
      "[[ 391.952  488.506]\n",
      " [ 516.981  798.298]\n",
      " [ 355.628  235.084]\n",
      " [ 238.555  299.451]\n",
      " [ 537.78   559.093]\n",
      " [ 733.775 1133.249]\n",
      " [ 198.832  348.744]\n",
      " [ 252.624  417.779]\n",
      " [ 206.204  344.522]\n",
      " [ 231.177  323.084]\n",
      " [ 449.755  620.752]\n",
      " [ 288.571  423.305]\n",
      " [ 185.736  202.614]\n",
      " [1164.388 1531.527]\n",
      " [ 444.581  553.479]\n",
      " [ 412.871  685.975]\n",
      " [ 272.28   324.241]\n",
      " [ 781.796  983.24 ]\n",
      " [1209.225 1762.015]\n",
      " [ 825.512  960.308]\n",
      " [ 223.748  284.611]\n",
      " [ 354.843  407.76 ]\n",
      " [ 515.523  982.663]\n",
      " [ 220.465  557.   ]\n",
      " [ 337.672  440.923]\n",
      " [ 197.12   268.06 ]\n",
      " [ 133.239  262.048]\n",
      " [ 374.009  432.502]\n",
      " [ 273.844  338.355]\n",
      " [ 570.364  704.322]\n",
      " [ 391.286  585.681]\n",
      " [ 201.86   267.781]\n",
      " [ 321.626  408.343]\n",
      " [ 838.902 1165.567]]\n"
     ]
    }
   ],
   "source": [
    "array=dataset.values\n",
    "print(array)"
   ]
  },
  {
   "cell_type": "code",
   "execution_count": 9,
   "metadata": {},
   "outputs": [
    {
     "name": "stdout",
     "output_type": "stream",
     "text": [
      "[[ 391.952]\n",
      " [ 516.981]\n",
      " [ 355.628]\n",
      " [ 238.555]\n",
      " [ 537.78 ]\n",
      " [ 733.775]\n",
      " [ 198.832]\n",
      " [ 252.624]\n",
      " [ 206.204]\n",
      " [ 231.177]\n",
      " [ 449.755]\n",
      " [ 288.571]\n",
      " [ 185.736]\n",
      " [1164.388]\n",
      " [ 444.581]\n",
      " [ 412.871]\n",
      " [ 272.28 ]\n",
      " [ 781.796]\n",
      " [1209.225]\n",
      " [ 825.512]\n",
      " [ 223.748]\n",
      " [ 354.843]\n",
      " [ 515.523]\n",
      " [ 220.465]\n",
      " [ 337.672]\n",
      " [ 197.12 ]\n",
      " [ 133.239]\n",
      " [ 374.009]\n",
      " [ 273.844]\n",
      " [ 570.364]\n",
      " [ 391.286]\n",
      " [ 201.86 ]\n",
      " [ 321.626]\n",
      " [ 838.902]]\n"
     ]
    }
   ],
   "source": [
    "import numpy as np\n",
    "from sklearn import preprocessing\n",
    "from sklearn import utils\n",
    "X=np.array(array[:,0:1])\n",
    "Y=np.array(array[:,1:])\n",
    "print(X)"
   ]
  },
  {
   "cell_type": "code",
   "execution_count": 10,
   "metadata": {},
   "outputs": [
    {
     "name": "stdout",
     "output_type": "stream",
     "text": [
      "[[ 488.506]\n",
      " [ 798.298]\n",
      " [ 235.084]\n",
      " [ 299.451]\n",
      " [ 559.093]\n",
      " [1133.249]\n",
      " [ 348.744]\n",
      " [ 417.779]\n",
      " [ 344.522]\n",
      " [ 323.084]\n",
      " [ 620.752]\n",
      " [ 423.305]\n",
      " [ 202.614]\n",
      " [1531.527]\n",
      " [ 553.479]\n",
      " [ 685.975]\n",
      " [ 324.241]\n",
      " [ 983.24 ]\n",
      " [1762.015]\n",
      " [ 960.308]\n",
      " [ 284.611]\n",
      " [ 407.76 ]\n",
      " [ 982.663]\n",
      " [ 557.   ]\n",
      " [ 440.923]\n",
      " [ 268.06 ]\n",
      " [ 262.048]\n",
      " [ 432.502]\n",
      " [ 338.355]\n",
      " [ 704.322]\n",
      " [ 585.681]\n",
      " [ 267.781]\n",
      " [ 408.343]\n",
      " [1165.567]]\n"
     ]
    }
   ],
   "source": [
    "X_train,X_test,Y_train,Y_test=model_selection.train_test_split(X,Y,test_size=0.20)\n",
    "print(Y)"
   ]
  },
  {
   "cell_type": "code",
   "execution_count": 16,
   "metadata": {},
   "outputs": [],
   "source": [
    "model=LinearRegression()\n",
    "model.fit(X_train,Y_train)\n",
    "ypred=model.predict(X_test)"
   ]
  },
  {
   "cell_type": "code",
   "execution_count": 17,
   "metadata": {},
   "outputs": [
    {
     "name": "stdout",
     "output_type": "stream",
     "text": [
      "[[1590.30934315]\n",
      " [ 278.02044008]\n",
      " [ 553.64546718]\n",
      " [ 328.9912916 ]\n",
      " [ 505.83112899]\n",
      " [ 293.28541361]\n",
      " [ 793.773799  ]]\n"
     ]
    }
   ],
   "source": [
    "print(ypred)"
   ]
  },
  {
   "cell_type": "code",
   "execution_count": 18,
   "metadata": {},
   "outputs": [
    {
     "name": "stdout",
     "output_type": "stream",
     "text": [
      "[[1531.527]\n",
      " [ 202.614]\n",
      " [ 585.681]\n",
      " [ 284.611]\n",
      " [ 235.084]\n",
      " [ 268.06 ]\n",
      " [ 704.322]]\n"
     ]
    }
   ],
   "source": [
    "print(Y_test)"
   ]
  },
  {
   "cell_type": "code",
   "execution_count": 19,
   "metadata": {},
   "outputs": [
    {
     "data": {
      "text/plain": [
       "0.9307245314217288"
      ]
     },
     "execution_count": 19,
     "metadata": {},
     "output_type": "execute_result"
    }
   ],
   "source": [
    "from sklearn.metrics import r2_score\n",
    "r2_score(Y_test,ypred)"
   ]
  },
  {
   "cell_type": "code",
   "execution_count": 15,
   "metadata": {},
   "outputs": [
    {
     "name": "stdout",
     "output_type": "stream",
     "text": [
      "[[431.23872321]]\n"
     ]
    }
   ],
   "source": [
    "print(model.predict([[300]]))"
   ]
  },
  {
   "cell_type": "code",
   "execution_count": null,
   "metadata": {},
   "outputs": [],
   "source": []
  }
 ],
 "metadata": {
  "kernelspec": {
   "display_name": "Python 3",
   "language": "python",
   "name": "python3"
  },
  "language_info": {
   "codemirror_mode": {
    "name": "ipython",
    "version": 3
   },
   "file_extension": ".py",
   "mimetype": "text/x-python",
   "name": "python",
   "nbconvert_exporter": "python",
   "pygments_lexer": "ipython3",
   "version": "3.8.5"
  }
 },
 "nbformat": 4,
 "nbformat_minor": 4
}
